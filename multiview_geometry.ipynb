{
 "cells": [
  {
   "cell_type": "code",
   "execution_count": 16,
   "id": "0c9f314e",
   "metadata": {},
   "outputs": [
    {
     "name": "stdout",
     "output_type": "stream",
     "text": [
      "The autoreload extension is already loaded. To reload it, use:\n",
      "  %reload_ext autoreload\n"
     ]
    }
   ],
   "source": [
    "%load_ext autoreload\n",
    "%autoreload 2\n",
    "\n",
    "import numpy as np\n",
    "import ipyvolume as ipv\n",
    "import cv2\n",
    "import matplotlib.pyplot as plt\n",
    "\n",
    "from slib.lie_algebra import random_rot3, random_trans3"
   ]
  },
  {
   "cell_type": "markdown",
   "id": "7a3cc871",
   "metadata": {},
   "source": [
    "# Draw a single plane\n",
    "Parts taken from [Multi view notebooks](https://github.com/maxcrous/multiview_notebooks)"
   ]
  },
  {
   "cell_type": "code",
   "execution_count": 14,
   "id": "6c4f8150",
   "metadata": {},
   "outputs": [
    {
     "data": {
      "application/vnd.jupyter.widget-view+json": {
       "model_id": "0e6094ce1e0b42b4a4fffb2cac1e5f53",
       "version_major": 2,
       "version_minor": 0
      },
      "text/plain": [
       "VBox(children=(Figure(camera=PerspectiveCamera(fov=46.0, position=(-1.1133407984528387, -0.9999999999999999, -…"
      ]
     },
     "metadata": {},
     "output_type": "display_data"
    }
   ],
   "source": [
    "nx, ny = (2,2)\n",
    "x = np.linspace(0, 1, nx)\n",
    "y = np.linspace(0, 1, ny)\n",
    "X, Y = np.meshgrid(x, y)\n",
    "# for i in range(nx):\n",
    "#     for j in range(ny):\n",
    "#         print(X[j,i], Y[j,i])\n",
    "\n",
    "Z = 0.5*X + 0.5\n",
    "ipv.figure()\n",
    "ipv.plot_surface(X, Z, Y, color=\"orange\")\n",
    "\n",
    "# fig = ipv.pylab.figure(figsize=(15, 15), width=800)\n",
    "ipv.xlim(-2.0, 2.0)\n",
    "ipv.ylim(-2.0, 2.0)\n",
    "ipv.zlim(-2.0, 2.0)\n",
    "ipv.pylab.view(azimuth=40, elevation=-150)\n",
    "\n",
    "ipv.show()"
   ]
  },
  {
   "cell_type": "code",
   "execution_count": 47,
   "id": "5ca88d27",
   "metadata": {},
   "outputs": [
    {
     "name": "stdout",
     "output_type": "stream",
     "text": [
      "[[600.   0. 640.]\n",
      " [  0. 600. 360.]\n",
      " [  0.   0.   1.]]\n",
      "(3, 1)\n",
      "(4, 3)\n",
      "(1, 3)\n"
     ]
    },
    {
     "ename": "ValueError",
     "evalue": "all the input array dimensions for the concatenation axis must match exactly, but along dimension 0, the array at index 0 has size 4 and the array at index 1 has size 3",
     "output_type": "error",
     "traceback": [
      "\u001b[0;31m---------------------------------------------------------------------------\u001b[0m",
      "\u001b[0;31mValueError\u001b[0m                                Traceback (most recent call last)",
      "\u001b[0;32m/var/folders/w7/h6243spd7d3c4cdvlx4txf400000gn/T/ipykernel_32688/365128853.py\u001b[0m in \u001b[0;36m<module>\u001b[0;34m\u001b[0m\n\u001b[1;32m     18\u001b[0m \u001b[0mn\u001b[0m \u001b[0;34m=\u001b[0m \u001b[0mnp\u001b[0m\u001b[0;34m.\u001b[0m\u001b[0marray\u001b[0m\u001b[0;34m(\u001b[0m\u001b[0;34m[\u001b[0m\u001b[0;34m[\u001b[0m\u001b[0;36m0\u001b[0m\u001b[0;34m,\u001b[0m\u001b[0;36m0\u001b[0m\u001b[0;34m,\u001b[0m\u001b[0;36m1\u001b[0m\u001b[0;34m]\u001b[0m\u001b[0;34m]\u001b[0m\u001b[0;34m)\u001b[0m\u001b[0;34m\u001b[0m\u001b[0;34m\u001b[0m\u001b[0m\n\u001b[1;32m     19\u001b[0m \u001b[0mprint\u001b[0m\u001b[0;34m(\u001b[0m\u001b[0mn\u001b[0m\u001b[0;34m.\u001b[0m\u001b[0mshape\u001b[0m\u001b[0;34m)\u001b[0m\u001b[0;34m\u001b[0m\u001b[0;34m\u001b[0m\u001b[0m\n\u001b[0;32m---> 20\u001b[0;31m \u001b[0mextrinsic\u001b[0m \u001b[0;34m=\u001b[0m \u001b[0mnp\u001b[0m\u001b[0;34m.\u001b[0m\u001b[0mc_\u001b[0m\u001b[0;34m[\u001b[0m \u001b[0mextrinsic\u001b[0m\u001b[0;34m,\u001b[0m \u001b[0mnp\u001b[0m\u001b[0;34m.\u001b[0m\u001b[0meye\u001b[0m\u001b[0;34m(\u001b[0m\u001b[0;36m3\u001b[0m\u001b[0;34m)\u001b[0m \u001b[0;34m]\u001b[0m\u001b[0;34m\u001b[0m\u001b[0;34m\u001b[0m\u001b[0m\n\u001b[0m\u001b[1;32m     21\u001b[0m \u001b[0mprint\u001b[0m\u001b[0;34m(\u001b[0m\u001b[0;34m'ee '\u001b[0m\u001b[0;34m,\u001b[0m\u001b[0mextrinsic\u001b[0m\u001b[0;34m.\u001b[0m\u001b[0mshape\u001b[0m\u001b[0;34m)\u001b[0m\u001b[0;34m\u001b[0m\u001b[0;34m\u001b[0m\u001b[0m\n\u001b[1;32m     22\u001b[0m \u001b[0;34m\u001b[0m\u001b[0m\n",
      "\u001b[0;32m/opt/homebrew/Caskroom/miniforge/base/envs/dvlp_m1/lib/python3.8/site-packages/numpy/lib/index_tricks.py\u001b[0m in \u001b[0;36m__getitem__\u001b[0;34m(self, key)\u001b[0m\n\u001b[1;32m    410\u001b[0m                 \u001b[0mobjs\u001b[0m\u001b[0;34m[\u001b[0m\u001b[0mk\u001b[0m\u001b[0;34m]\u001b[0m \u001b[0;34m=\u001b[0m \u001b[0mobjs\u001b[0m\u001b[0;34m[\u001b[0m\u001b[0mk\u001b[0m\u001b[0;34m]\u001b[0m\u001b[0;34m.\u001b[0m\u001b[0mastype\u001b[0m\u001b[0;34m(\u001b[0m\u001b[0mfinal_dtype\u001b[0m\u001b[0;34m)\u001b[0m\u001b[0;34m\u001b[0m\u001b[0;34m\u001b[0m\u001b[0m\n\u001b[1;32m    411\u001b[0m \u001b[0;34m\u001b[0m\u001b[0m\n\u001b[0;32m--> 412\u001b[0;31m         \u001b[0mres\u001b[0m \u001b[0;34m=\u001b[0m \u001b[0mself\u001b[0m\u001b[0;34m.\u001b[0m\u001b[0mconcatenate\u001b[0m\u001b[0;34m(\u001b[0m\u001b[0mtuple\u001b[0m\u001b[0;34m(\u001b[0m\u001b[0mobjs\u001b[0m\u001b[0;34m)\u001b[0m\u001b[0;34m,\u001b[0m \u001b[0maxis\u001b[0m\u001b[0;34m=\u001b[0m\u001b[0maxis\u001b[0m\u001b[0;34m)\u001b[0m\u001b[0;34m\u001b[0m\u001b[0;34m\u001b[0m\u001b[0m\n\u001b[0m\u001b[1;32m    413\u001b[0m \u001b[0;34m\u001b[0m\u001b[0m\n\u001b[1;32m    414\u001b[0m         \u001b[0;32mif\u001b[0m \u001b[0mmatrix\u001b[0m\u001b[0;34m:\u001b[0m\u001b[0;34m\u001b[0m\u001b[0;34m\u001b[0m\u001b[0m\n",
      "\u001b[0;32m/opt/homebrew/Caskroom/miniforge/base/envs/dvlp_m1/lib/python3.8/site-packages/numpy/core/overrides.py\u001b[0m in \u001b[0;36mconcatenate\u001b[0;34m(*args, **kwargs)\u001b[0m\n",
      "\u001b[0;31mValueError\u001b[0m: all the input array dimensions for the concatenation axis must match exactly, but along dimension 0, the array at index 0 has size 4 and the array at index 1 has size 3"
     ]
    }
   ],
   "source": [
    "fx = 600\n",
    "fy = 600\n",
    "cx = 1280 /2\n",
    "cy = 720 /2\n",
    "K = np.array(\n",
    "    [\n",
    "        [fx, 0.0, cx],\n",
    "        [0.0, fy, cy],\n",
    "        [0.0,0.0,1.0]\n",
    "    ]\n",
    ")\n",
    "print(K)\n",
    "R = random_rot3()\n",
    "t = random_trans3()\n",
    "print(t.shape)\n",
    "extrinsic = np.vstack((R, t.T))\n",
    "print(extrinsic.shape)\n",
    "n = np.array([[0,0,1]])\n",
    "print(n.shape)\n",
    "extrinsic = np.c_[ extrinsic, np.eye(3) ] \n",
    "print('ee ',extrinsic.shape)\n",
    "\n",
    "e = np.concatenate([R, t], axis=1)\n",
    "e = np.vstack([e, [[0,0,0,1]]]) \n",
    "print(e.shape)\n",
    "print(np.linalg.norm(e-extrinsic))\n",
    "\n",
    "camera_center = -R.T @ t\n",
    "\n",
    "print(R)\n",
    "print(t)\n",
    "print(camera_center)"
   ]
  },
  {
   "cell_type": "code",
   "execution_count": null,
   "id": "131b11c2",
   "metadata": {},
   "outputs": [],
   "source": [
    "def init_3d_plot(box_3d, plane_3d):\n",
    "    \"\"\" Initializes a ipyvolume 3d plot and centers the \n",
    "        world view around the center of the plane.\n",
    "        \n",
    "    Returns: \n",
    "        fig (ipyvolume.pylab.figure): A 3D plot. \n",
    "    \"\"\"\n",
    "    plane_3d_x_center = plane_3d.x\n",
    "    plane_3d_y_center = plane_3d.y\n",
    "\n",
    "    fig = ipv.pylab.figure(figsize=(15, 15), width=800)\n",
    "    ipv.xlim(box_3d.xmin, bx_3d.xmax)\n",
    "    ipv.ylim(box_3d.ymin, box3d.ymax)\n",
    "    ipv.zlim(box_3d.zmin, box3d.zmax)\n",
    "    ipv.pylab.view(azimuth=40, elevation=-150)\n",
    "    return fig"
   ]
  }
 ],
 "metadata": {
  "kernelspec": {
   "display_name": "Python 3.8.12 ('dvlp_m1')",
   "language": "python",
   "name": "python3812jvsc74a57bd0b490ba79cd6e0cad5d561930ddcb592f66007d6828f74aef7cec19c0ea8e73d4"
  },
  "language_info": {
   "codemirror_mode": {
    "name": "ipython",
    "version": 3
   },
   "file_extension": ".py",
   "mimetype": "text/x-python",
   "name": "python",
   "nbconvert_exporter": "python",
   "pygments_lexer": "ipython3",
   "version": "3.8.12"
  }
 },
 "nbformat": 4,
 "nbformat_minor": 5
}
