{
 "cells": [
  {
   "cell_type": "code",
   "execution_count": 3,
   "id": "0c9f314e",
   "metadata": {},
   "outputs": [],
   "source": [
    "%load_ext autoreload\n",
    "%autoreload 2\n",
    "\n",
    "# Insert root directory to path\n",
    "import os\n",
    "import sys\n",
    "from pathlib import Path\n",
    "root_dir = str(Path(os.getcwd()).parent)\n",
    "if str(root_dir) not in sys.path:\n",
    "    sys.path.insert(0,str(root_dir))\n",
    "else:\n",
    "    print('PATH O.K.')\n",
    "\n",
    "import numpy as np\n",
    "import ipyvolume as ipv\n",
    "import cv2\n",
    "import matplotlib.pyplot as plt\n",
    "import kornia\n",
    "\n",
    "from slib.lie_algebra import random_rot3, random_trans3\n",
    "from slib.plane3d import Plane3d\n",
    "from slib.plot_3d import plot_planar_rect, init_3d_plot\n",
    "from slib.lie_algebra import SE3, SO3\n",
    "from slib.camera import CameraIntrinsicts, Camera, Cameras\n"
   ]
  },
  {
   "cell_type": "markdown",
   "id": "7a3cc871",
   "metadata": {},
   "source": [
    "# Draw a single plane\n",
    "Parts taken from [Multi view notebooks](https://github.com/maxcrous/multiview_notebooks)"
   ]
  },
  {
   "cell_type": "code",
   "execution_count": 28,
   "id": "6da7abb8",
   "metadata": {},
   "outputs": [
    {
     "name": "stdout",
     "output_type": "stream",
     "text": [
      "total 432\n",
      "-rw-r--r--@ 1 shmuelrippa  staff   8.1K Jan 31 13:10 colab_play.ipynb\n",
      "-rw-r--r--  1 shmuelrippa  staff    83K Jun 30 14:24 covid19-faq.txt\n",
      "-rw-r--r--  1 shmuelrippa  staff    13K Jul 12 09:04 dl_course_1.ipynb\n",
      "-rw-r--r--  1 shmuelrippa  staff   8.8K Jul  4 13:05 loss1.pdf\n",
      "-rw-r--r--  1 shmuelrippa  staff    15K Jul 13 10:22 multiview_geometry.ipynb\n",
      "-rw-r--r--  1 shmuelrippa  staff    15K Jul  4 13:08 rnn_lstm.ipynb\n",
      "-rw-r--r--@ 1 shmuelrippa  staff    19K Jun 23 12:54 simple_mlp.ipynb\n",
      "-rw-r--r--  1 shmuelrippa  staff    21K Jul 11 12:08 transformer.ipynb\n",
      "-rw-r--r--@ 1 shmuelrippa  staff    13K Jun  2 18:20 useful_libs.ipynb\n"
     ]
    }
   ],
   "source": [
    "!ls -lh"
   ]
  },
  {
   "cell_type": "code",
   "execution_count": 30,
   "id": "03f311d1",
   "metadata": {},
   "outputs": [
    {
     "name": "stdout",
     "output_type": "stream",
     "text": [
      "(1000, 1500, 3)\n",
      "(1000, 1500, 3)\n",
      "(1000, 1500, 3)\n",
      "(1000, 1500, 3)\n",
      "(1000, 1500, 3)\n",
      "(1000, 1500, 3)\n",
      "(1000, 1500, 3)\n",
      "(1000, 1500, 3)\n",
      "(1000, 1500, 3)\n",
      "(1000, 1500, 3)\n",
      "(1000, 1500, 3)\n"
     ]
    }
   ],
   "source": [
    "# Read images\n",
    "for i in range(11): \n",
    "    img = cv2.imread(f'../images/calibration/{i}.jpg')\n",
    "    img = cv2.resize(img, None, fx=0.25, fy=0.25)\n",
    "    cv2.imwrite(f'../images/calibration/calib_{i}.jpg', img)\n",
    "\n",
    "    print(img.shape)"
   ]
  },
  {
   "cell_type": "code",
   "execution_count": 4,
   "id": "8842412c",
   "metadata": {},
   "outputs": [
    {
     "name": "stdout",
     "output_type": "stream",
     "text": [
      "(1000, 1500, 3)\n",
      "5  9\n",
      "[[ 10.59621268]\n",
      " [-18.68066314]\n",
      " [-16.3895284 ]]\n",
      "[ 10.59621268 -18.68066314 -16.3895284 ]\n",
      "err  2.1677797545656835e-16 3.972054645195637e-15\n"
     ]
    }
   ],
   "source": [
    "\n",
    "img_dir = Path('/Users/shmuelrippa/dvlp/dvlp/images/calibration')\n",
    "img_file = img_dir / 'calib_4.jpg'\n",
    "img = cv2.imread(str(img_file))\n",
    "# img = cv2.resize(img, None, fx=0.25, fy=0.25)\n",
    "print(img.shape)\n",
    "\n",
    "fx = 1452.26601 \n",
    "fy = 1449.93355\n",
    "cx = 759.064530\n",
    "cy = 457.146908\n",
    "width = 1500\n",
    "height = 1000\n",
    "\n",
    "distortions = [-1.51960304e-01,  5.60700273e-01, -1.28234990e-02,  1.41775450e-03, 5.23404322e+00]\n",
    "ci = CameraIntrinsicts.from_opencv_model(fx,fy,cx,cy,distortions,width, height)\n",
    "\n",
    "\n",
    "rot_v_00 = np.array([[-0.20247377], [1.40040087], [2.40735099]])\n",
    "trans_v_00 = np.array([[3.84588435], [3.33279547], [26.53234229]])\n",
    "\n",
    "rot_v_0 = np.array([-0.20247377, 1.40040087, 2.40735099])\n",
    "rot_v_1 = np.array([[-0.44448518], [-1.37454204], [-2.33434062]])\n",
    "rot_v_2 = np.array([[-0.7470287 ], [ 0.8806656 ], [ 1.49779009]])\n",
    "rot_v_3 = np.array([[-0.03328229], [ 1.26938756], [ 2.70563679]])\n",
    "rot_v_4 = np.array([[-0.83852022], [-0.84686949], [-1.46605745]])\n",
    "rot_v_5 = np.array([[-1.01555167], [-0.74624915], [-1.14510058]])\n",
    "rot_v_6 = np.array([[-0.47130223], [-0.89999994], [-0.56372182]])\n",
    "rot_v_7 = np.array([[-0.7208132 ], [ 0.53782897], [ 1.16244219]])\n",
    "rot_v_8 = np.array([[0.07541929],  [1.90962255],  [2.46269658]])\n",
    "rot_v_9 = np.array([[-0.73442614], [-0.58029994], [-1.21790521]])\n",
    "rots = [rot_v_00, rot_v_1, rot_v_2, rot_v_3, rot_v_4, rot_v_5, rot_v_6, rot_v_7, rot_v_8, rot_v_9]\n",
    "\n",
    "trans_v_0 = np.array([3.84588435, 3.33279547, 26.53234229])\n",
    "trans_v_1 = np.array([[-1.11390426], [ 2.81845125], [28.68867561]])\n",
    "trans_v_2 = np.array([[ 2.48205121], [-0.50069956], [33.90249133]])\n",
    "trans_v_3 = np.array([[ 4.16217292], [ 5.91685505], [29.21393509]])\n",
    "trans_v_4 = np.array([[-3.25634978], [ 4.47575481], [36.116295  ]])\n",
    "trans_v_5 = np.array([[-6.12994266], [ 3.46228711], [39.69617574]])\n",
    "trans_v_6 = np.array([[-5.68526331], [-1.18649701], [41.05701536]])\n",
    "trans_v_7 = np.array([[ 4.03303854], [ 0.32427912], [38.35574254]])\n",
    "trans_v_8 = np.array([[ 1.94444063], [ 0.78947952], [17.67448071]])\n",
    "trans_v_9 = np.array([[-0.99470531], [ 6.39366495], [36.54023511]])\n",
    "ts = [trans_v_00, trans_v_1, trans_v_2, trans_v_3, trans_v_4, trans_v_5, trans_v_6, trans_v_7, trans_v_8, trans_v_9]\n",
    "\n",
    "\n",
    "# cam_00 = Camera.from_rotvec_trans(ci, rot_v_0, trans_v_0)\n",
    "\n",
    "ii = 0\n",
    "camera_list = []\n",
    "for rot,trans in zip(rots,ts):\n",
    "    img_file = img_dir / f'calib_{ii}.jpg'\n",
    "    img = cv2.imread(str(img_file))\n",
    "    img = cv2.cvtColor(img, cv2.COLOR_BGR2RGB) \n",
    "\n",
    "    rotr = cv2.Rodrigues(rot)[0]\n",
    "    extrinsic = np.concatenate([rotr, trans], axis=1)\n",
    "    extrinsic = np.vstack([extrinsic, [[0,0,0,1]]]) \n",
    "\n",
    "    center = -rotr.T @ trans\n",
    "    # center = np.append(center, 1)\n",
    "\n",
    "    cam_00 = Camera.from_rotvec_trans(ci, rot, trans)\n",
    "    cam_00.append_image(img)\n",
    "    camera_list.append(cam_00)\n",
    "\n",
    "    # print(center.squeeze())\n",
    "    # print(cam_00.center)\n",
    "\n",
    "    # print('EX ',extrinsic)\n",
    "    print(center)\n",
    "    print(cam_00.center)\n",
    "    print('err ', np.linalg.norm(cam_00.extrinsics-extrinsic), np.linalg.norm(center.squeeze()-cam_00.center))\n",
    "    ii += 1\n",
    "    break\n",
    "cameras = Cameras(camera_list)\n"
   ]
  },
  {
   "cell_type": "code",
   "execution_count": 66,
   "id": "82f259cd",
   "metadata": {},
   "outputs": [
    {
     "name": "stdout",
     "output_type": "stream",
     "text": [
      "pc un-distorted  [0.11919842 0.13499647]\n",
      "pc distorted  [0.11837612 0.13359721]\n",
      "[930.97814338 650.85398399] 0.03697704041775363\n",
      "pc distorted  [0.11837612 0.13359721]\n",
      "xxxxxxx  [0.11837612 0.13359721] [0.11919495 0.13499051] [0.11919495 0.13499051]\n",
      "pc un-distorted  [0.11919495 0.13499051]\n",
      "[0.50005117 0.50010707 0.49985626 1.        ]\n",
      "0.0001864006583065566\n"
     ]
    }
   ],
   "source": [
    "pw = np.array([0.5, 0.5, 0.5, 1.0])\n",
    "# p2d, disparity = cam_00.project_3d(pw)\n",
    "# print(p2d, disparity)\n",
    "\n",
    "pix, disparity = cam_00.project_point(pw)\n",
    "print(pix,disparity)\n",
    "\n",
    "p3d = cam_00.reproject_point(pix, disparity)\n",
    "print(p3d)\n",
    "\n",
    "print(np.linalg.norm(pw-p3d))"
   ]
  },
  {
   "cell_type": "code",
   "execution_count": 14,
   "id": "870c0008",
   "metadata": {},
   "outputs": [
    {
     "name": "stdout",
     "output_type": "stream",
     "text": [
      "(4, 4)\n",
      "(1, 3)\n",
      "[[[930.97814338 650.85398399]]]\n"
     ]
    }
   ],
   "source": [
    "p3d = np.array([pw[:3].tolist()])\n",
    "print(cam_00.K.shape)\n",
    "print(p3d.shape)\n",
    "pp, _ =  cv2.projectPoints(pw[:3],\n",
    "                            rot,\n",
    "                            trans,\n",
    "                            cam_00.K[:3,:3],\n",
    "                            np.array(distortions))\n",
    "print(pp)"
   ]
  },
  {
   "cell_type": "code",
   "execution_count": 139,
   "id": "88c6ba3a",
   "metadata": {},
   "outputs": [
    {
     "name": "stdout",
     "output_type": "stream",
     "text": [
      "[[-0.92944893 -0.36550053  0.05033934  3.84588435]\n",
      " [ 0.22443503 -0.45181013  0.86342141  3.33279547]\n",
      " [-0.29283716  0.81380401  0.50196556 26.53234229]\n",
      " [ 0.          0.          0.          1.        ]]\n"
     ]
    }
   ],
   "source": [
    "print(cam_00.extrinsics_matrix())"
   ]
  },
  {
   "cell_type": "code",
   "execution_count": 133,
   "id": "0873ef27",
   "metadata": {},
   "outputs": [
    {
     "name": "stdout",
     "output_type": "stream",
     "text": [
      "[-13.62505096 -19.90820892 -15.81915808]\n"
     ]
    },
    {
     "data": {
      "application/vnd.jupyter.widget-view+json": {
       "model_id": "4be15d7d40b84db691e7298339e11484",
       "version_major": 2,
       "version_minor": 0
      },
      "text/plain": [
       "VBox(children=(Figure(camera=PerspectiveCamera(fov=45.0, position=(-1.1133407984528387, -0.9999999999999999, -…"
      ]
     },
     "metadata": {},
     "output_type": "display_data"
    }
   ],
   "source": [
    "cam_00 = camera_list[1]\n",
    "\n",
    "print(cam_00.center)\n",
    "\n",
    "xmin = cam_00.center[0] - 2.0\n",
    "xmax = cam_00.center[0] + 2.0\n",
    "ymin = cam_00.center[1] - 2.0\n",
    "ymax = cam_00.center[1] + 2.0\n",
    "zmin = cam_00.center[2] - 2.0\n",
    "zmax = cam_00.center[2] + 2.0\n",
    "fig = init_3d_plot(xmin, ymin, xmax, ymax, zmin, zmax)\n",
    "ipv =cam_00.plot(1.0, show_image=True)\n",
    "ipv.show()"
   ]
  },
  {
   "cell_type": "code",
   "execution_count": 134,
   "id": "0a8003d1",
   "metadata": {},
   "outputs": [
    {
     "data": {
      "application/vnd.jupyter.widget-view+json": {
       "model_id": "37c404abe5d64afc8475eddf88370eef",
       "version_major": 2,
       "version_minor": 0
      },
      "text/plain": [
       "VBox(children=(Figure(camera=PerspectiveCamera(fov=45.0, position=(-1.1133407984528387, -0.9999999999999999, -…"
      ]
     },
     "metadata": {},
     "output_type": "display_data"
    }
   ],
   "source": [
    "ipv = cameras.plot(1.0)\n",
    "ipv.show()"
   ]
  },
  {
   "cell_type": "code",
   "execution_count": null,
   "id": "39e750f3",
   "metadata": {},
   "outputs": [],
   "source": [
    "def extrinsics_from_calibration(rotation_vectors, translation_vectors):\n",
    "    \"\"\" Calculates extrinsic matrices from calibration output. \n",
    "        \n",
    "    Args: \n",
    "        rotation_vectors (list[np.ndarray]): Rodrigues rotation vectors.\n",
    "        translation_vectors (list[np.ndarray]): Translation vectors.\n",
    "    Returns: \n",
    "        extrinsics (list[np.ndarray]): A list of camera extrinsic matrices.\n",
    "            These matrices are 4x4 full-rank.\n",
    "    \"\"\"\n",
    "    \n",
    "    rotation_matrices = list() \n",
    "    for rot in rotation_vectors:\n",
    "        rotation_matrices.append(cv2.Rodrigues(rot)[0]) \n",
    "\n",
    "    extrinsics = list()\n",
    "    for rot, trans in zip(rotation_matrices, translation_vectors): \n",
    "        extrinsic = np.concatenate([rot, trans], axis=1)\n",
    "        extrinsic = np.vstack([extrinsic, [[0,0,0,1]]]) \n",
    "        extrinsics.append(extrinsic)\n",
    "    \n",
    "    return extrinsics\n",
    "\n",
    "def camera_centers_from_extrinsics(extrinsics):\n",
    "    \"\"\" Calculates camera centers from extrinsic matrices. \n",
    "    \n",
    "    Args: \n",
    "        extrinsics (list[np.ndarray]):  A list of camera extrinsic matrices.\n",
    "    Returns: \n",
    "        camera_centers (list[np.ndarray]): Homogenous coordinates of camera centers in \n",
    "            3D world coordinate frame.\n",
    "    \"\"\"\n",
    "    camera_centers = list() \n",
    "\n",
    "    for extrinsic in extrinsics:\n",
    "        rot = extrinsic[:3, :3]\n",
    "        trans = extrinsic[:3, 3]\n",
    "        center = -rot.T @ trans\n",
    "        center = np.append(center, 1)\n",
    "        camera_centers.append(center)\n",
    "    \n",
    "    return camera_centers"
   ]
  },
  {
   "cell_type": "code",
   "execution_count": 63,
   "id": "7514a4a1",
   "metadata": {},
   "outputs": [
    {
     "name": "stdout",
     "output_type": "stream",
     "text": [
      "{'name': '01', 'width': '2400', 'height': '2000', 'focalpoint': '1779.770796', 'cx': '1201.783555', 'cy': '968.960122'}\n",
      "{'name': '01', 'width': '2400', 'height': '2000', 'focalpoint': '1779.770796', 'cx': '1201.783555', 'cy': '968.960122'}\n"
     ]
    }
   ],
   "source": [
    "from easydict import EasyDict as edict\n",
    "import json\n",
    "\n",
    "def read(path, read_mode):\n",
    "    with Path(path).open(read_mode) as fin:\n",
    "        buffer = fin.read()\n",
    "    return buffer\n",
    "\n",
    "def read_json_file(path):\n",
    "    json_str = read(str(path), 'r')\n",
    "    json_dict = json.loads(json_str)\n",
    "    return json_dict\n",
    "\n",
    "\n",
    "point_cloud_root_path = Path('/opt/datasets/DMP_point_cloud')\n",
    "metadata_file = point_cloud_root_path / 'Metadata.json'\n",
    "medatata = edict(read_json_file(metadata_file))\n",
    "\n",
    "ero_cameras =  medatata['cameradata']\n",
    "camera_names = [c['name'] for c in ero_cameras]\n",
    "\n",
    "c1 = edict(ero_cameras[0])\n",
    "print(c1)\n",
    "K1 = [\n",
    "    [c1.focalpoint, 0.0,           c1.cx,  0.0],\n",
    "    [0.0,           c1.focalpoint, c1.cy,  0.0],\n",
    "    [0.0,           0.0,           0.0, 1.0]\n",
    "\n",
    "]\n",
    "print(ero_cameras[0])"
   ]
  },
  {
   "cell_type": "code",
   "execution_count": 2,
   "id": "4443da04",
   "metadata": {},
   "outputs": [],
   "source": [
    "p0 = np.array([0.0,0.0,0.0])\n",
    "p1 = np.array([0.0,1.0,0.0])\n",
    "p2 = np.array([0.0,0.5,0.5])\n",
    "plane_3d = Plane3d.from_3_points(p0,p1,p2)\n"
   ]
  },
  {
   "cell_type": "code",
   "execution_count": 40,
   "id": "fc3af307",
   "metadata": {},
   "outputs": [
    {
     "name": "stdout",
     "output_type": "stream",
     "text": [
      "[0.5 0.  0. ]\n"
     ]
    },
    {
     "data": {
      "application/vnd.jupyter.widget-view+json": {
       "model_id": "394ffda187964716afe763086ff7d991",
       "version_major": 2,
       "version_minor": 0
      },
      "text/plain": [
       "VBox(children=(Figure(camera=PerspectiveCamera(fov=45.0, position=(-1.1133407984528387, -0.9999999999999999, -…"
      ]
     },
     "metadata": {},
     "output_type": "display_data"
    }
   ],
   "source": [
    "ipv = plot_planar_rect(plane_3d)\n",
    "ipv.show()"
   ]
  },
  {
   "cell_type": "code",
   "execution_count": 2,
   "id": "6c4f8150",
   "metadata": {},
   "outputs": [
    {
     "data": {
      "application/vnd.jupyter.widget-view+json": {
       "model_id": "b7aa777029ab4a5a8588cd7a070cf8aa",
       "version_major": 2,
       "version_minor": 0
      },
      "text/plain": [
       "VBox(children=(Figure(camera=PerspectiveCamera(fov=45.0, position=(-1.1133407984528387, -0.9999999999999999, -…"
      ]
     },
     "metadata": {},
     "output_type": "display_data"
    }
   ],
   "source": [
    "nx, ny = (2,2)\n",
    "x = np.linspace(0, 1, nx)\n",
    "y = np.linspace(0, 1, ny)\n",
    "X, Y = np.meshgrid(x, y)\n",
    "# for i in range(nx):\n",
    "#     for j in range(ny):\n",
    "#         print(X[j,i], Y[j,i])\n",
    "\n",
    "Z = 0.5*X + 0.5\n",
    "ipv.figure()\n",
    "ipv.plot_surface(X, Z, Y, color=\"orange\")\n",
    "\n",
    "# fig = ipv.pylab.figure(figsize=(15, 15), width=800)\n",
    "ipv.xlim(-2.0, 2.0)\n",
    "ipv.ylim(-2.0, 2.0)\n",
    "ipv.zlim(-2.0, 2.0)\n",
    "ipv.pylab.view(azimuth=40, elevation=-150)\n",
    "\n",
    "ipv.show()"
   ]
  },
  {
   "cell_type": "code",
   "execution_count": 3,
   "id": "ad277669",
   "metadata": {},
   "outputs": [
    {
     "data": {
      "application/vnd.jupyter.widget-view+json": {
       "model_id": "1153ff20d72f4d5c94faa54a108eb4e6",
       "version_major": 2,
       "version_minor": 0
      },
      "text/plain": [
       "VBox(children=(Figure(camera=PerspectiveCamera(fov=45.0, position=(-1.1133407984528387, -0.9999999999999999, -…"
      ]
     },
     "metadata": {},
     "output_type": "display_data"
    }
   ],
   "source": [
    "ipv.show()"
   ]
  },
  {
   "cell_type": "code",
   "execution_count": 47,
   "id": "5ca88d27",
   "metadata": {},
   "outputs": [
    {
     "name": "stdout",
     "output_type": "stream",
     "text": [
      "[[600.   0. 640.]\n",
      " [  0. 600. 360.]\n",
      " [  0.   0.   1.]]\n",
      "(3, 1)\n",
      "(4, 3)\n",
      "(1, 3)\n"
     ]
    },
    {
     "ename": "ValueError",
     "evalue": "all the input array dimensions for the concatenation axis must match exactly, but along dimension 0, the array at index 0 has size 4 and the array at index 1 has size 3",
     "output_type": "error",
     "traceback": [
      "\u001b[0;31m---------------------------------------------------------------------------\u001b[0m",
      "\u001b[0;31mValueError\u001b[0m                                Traceback (most recent call last)",
      "\u001b[0;32m/var/folders/w7/h6243spd7d3c4cdvlx4txf400000gn/T/ipykernel_32688/365128853.py\u001b[0m in \u001b[0;36m<module>\u001b[0;34m\u001b[0m\n\u001b[1;32m     18\u001b[0m \u001b[0mn\u001b[0m \u001b[0;34m=\u001b[0m \u001b[0mnp\u001b[0m\u001b[0;34m.\u001b[0m\u001b[0marray\u001b[0m\u001b[0;34m(\u001b[0m\u001b[0;34m[\u001b[0m\u001b[0;34m[\u001b[0m\u001b[0;36m0\u001b[0m\u001b[0;34m,\u001b[0m\u001b[0;36m0\u001b[0m\u001b[0;34m,\u001b[0m\u001b[0;36m1\u001b[0m\u001b[0;34m]\u001b[0m\u001b[0;34m]\u001b[0m\u001b[0;34m)\u001b[0m\u001b[0;34m\u001b[0m\u001b[0;34m\u001b[0m\u001b[0m\n\u001b[1;32m     19\u001b[0m \u001b[0mprint\u001b[0m\u001b[0;34m(\u001b[0m\u001b[0mn\u001b[0m\u001b[0;34m.\u001b[0m\u001b[0mshape\u001b[0m\u001b[0;34m)\u001b[0m\u001b[0;34m\u001b[0m\u001b[0;34m\u001b[0m\u001b[0m\n\u001b[0;32m---> 20\u001b[0;31m \u001b[0mextrinsic\u001b[0m \u001b[0;34m=\u001b[0m \u001b[0mnp\u001b[0m\u001b[0;34m.\u001b[0m\u001b[0mc_\u001b[0m\u001b[0;34m[\u001b[0m \u001b[0mextrinsic\u001b[0m\u001b[0;34m,\u001b[0m \u001b[0mnp\u001b[0m\u001b[0;34m.\u001b[0m\u001b[0meye\u001b[0m\u001b[0;34m(\u001b[0m\u001b[0;36m3\u001b[0m\u001b[0;34m)\u001b[0m \u001b[0;34m]\u001b[0m\u001b[0;34m\u001b[0m\u001b[0;34m\u001b[0m\u001b[0m\n\u001b[0m\u001b[1;32m     21\u001b[0m \u001b[0mprint\u001b[0m\u001b[0;34m(\u001b[0m\u001b[0;34m'ee '\u001b[0m\u001b[0;34m,\u001b[0m\u001b[0mextrinsic\u001b[0m\u001b[0;34m.\u001b[0m\u001b[0mshape\u001b[0m\u001b[0;34m)\u001b[0m\u001b[0;34m\u001b[0m\u001b[0;34m\u001b[0m\u001b[0m\n\u001b[1;32m     22\u001b[0m \u001b[0;34m\u001b[0m\u001b[0m\n",
      "\u001b[0;32m/opt/homebrew/Caskroom/miniforge/base/envs/dvlp_m1/lib/python3.8/site-packages/numpy/lib/index_tricks.py\u001b[0m in \u001b[0;36m__getitem__\u001b[0;34m(self, key)\u001b[0m\n\u001b[1;32m    410\u001b[0m                 \u001b[0mobjs\u001b[0m\u001b[0;34m[\u001b[0m\u001b[0mk\u001b[0m\u001b[0;34m]\u001b[0m \u001b[0;34m=\u001b[0m \u001b[0mobjs\u001b[0m\u001b[0;34m[\u001b[0m\u001b[0mk\u001b[0m\u001b[0;34m]\u001b[0m\u001b[0;34m.\u001b[0m\u001b[0mastype\u001b[0m\u001b[0;34m(\u001b[0m\u001b[0mfinal_dtype\u001b[0m\u001b[0;34m)\u001b[0m\u001b[0;34m\u001b[0m\u001b[0;34m\u001b[0m\u001b[0m\n\u001b[1;32m    411\u001b[0m \u001b[0;34m\u001b[0m\u001b[0m\n\u001b[0;32m--> 412\u001b[0;31m         \u001b[0mres\u001b[0m \u001b[0;34m=\u001b[0m \u001b[0mself\u001b[0m\u001b[0;34m.\u001b[0m\u001b[0mconcatenate\u001b[0m\u001b[0;34m(\u001b[0m\u001b[0mtuple\u001b[0m\u001b[0;34m(\u001b[0m\u001b[0mobjs\u001b[0m\u001b[0;34m)\u001b[0m\u001b[0;34m,\u001b[0m \u001b[0maxis\u001b[0m\u001b[0;34m=\u001b[0m\u001b[0maxis\u001b[0m\u001b[0;34m)\u001b[0m\u001b[0;34m\u001b[0m\u001b[0;34m\u001b[0m\u001b[0m\n\u001b[0m\u001b[1;32m    413\u001b[0m \u001b[0;34m\u001b[0m\u001b[0m\n\u001b[1;32m    414\u001b[0m         \u001b[0;32mif\u001b[0m \u001b[0mmatrix\u001b[0m\u001b[0;34m:\u001b[0m\u001b[0;34m\u001b[0m\u001b[0;34m\u001b[0m\u001b[0m\n",
      "\u001b[0;32m/opt/homebrew/Caskroom/miniforge/base/envs/dvlp_m1/lib/python3.8/site-packages/numpy/core/overrides.py\u001b[0m in \u001b[0;36mconcatenate\u001b[0;34m(*args, **kwargs)\u001b[0m\n",
      "\u001b[0;31mValueError\u001b[0m: all the input array dimensions for the concatenation axis must match exactly, but along dimension 0, the array at index 0 has size 4 and the array at index 1 has size 3"
     ]
    }
   ],
   "source": [
    "fx = 600\n",
    "fy = 600\n",
    "cx = 1280 /2\n",
    "cy = 720 /2\n",
    "K = np.array(\n",
    "    [\n",
    "        [fx, 0.0, cx],\n",
    "        [0.0, fy, cy],\n",
    "        [0.0,0.0,1.0]\n",
    "    ]\n",
    ")\n",
    "print(K)\n",
    "R = random_rot3()\n",
    "t = random_trans3()\n",
    "print(t.shape)\n",
    "extrinsic = np.vstack((R, t.T))\n",
    "print(extrinsic.shape)\n",
    "n = np.array([[0,0,1]])\n",
    "print(n.shape)\n",
    "extrinsic = np.c_[ extrinsic, np.eye(3) ] \n",
    "print('ee ',extrinsic.shape)\n",
    "\n",
    "e = np.concatenate([R, t], axis=1)\n",
    "e = np.vstack([e, [[0,0,0,1]]]) \n",
    "print(e.shape)\n",
    "print(np.linalg.norm(e-extrinsic))\n",
    "\n",
    "camera_center = -R.T @ t\n",
    "\n",
    "print(R)\n",
    "print(t)\n",
    "print(camera_center)"
   ]
  },
  {
   "cell_type": "code",
   "execution_count": null,
   "id": "131b11c2",
   "metadata": {},
   "outputs": [],
   "source": [
    "def init_3d_plot(box_3d, plane_3d):\n",
    "    \"\"\" Initializes a ipyvolume 3d plot and centers the \n",
    "        world view around the center of the plane.\n",
    "        \n",
    "    Returns: \n",
    "        fig (ipyvolume.pylab.figure): A 3D plot. \n",
    "    \"\"\"\n",
    "    plane_3d_x_center = plane_3d.x\n",
    "    plane_3d_y_center = plane_3d.y\n",
    "\n",
    "    fig = ipv.pylab.figure(figsize=(15, 15), width=800)\n",
    "    ipv.xlim(box_3d.xmin, bx_3d.xmax)\n",
    "    ipv.ylim(box_3d.ymin, box3d.ymax)\n",
    "    ipv.zlim(box_3d.zmin, box3d.zmax)\n",
    "    ipv.pylab.view(azimuth=40, elevation=-150)\n",
    "    return fig"
   ]
  }
 ],
 "metadata": {
  "kernelspec": {
   "display_name": "Python 3 (ipykernel)",
   "language": "python",
   "name": "python3"
  },
  "language_info": {
   "codemirror_mode": {
    "name": "ipython",
    "version": 3
   },
   "file_extension": ".py",
   "mimetype": "text/x-python",
   "name": "python",
   "nbconvert_exporter": "python",
   "pygments_lexer": "ipython3",
   "version": "3.8.12"
  },
  "vscode": {
   "interpreter": {
    "hash": "b490ba79cd6e0cad5d561930ddcb592f66007d6828f74aef7cec19c0ea8e73d4"
   }
  }
 },
 "nbformat": 4,
 "nbformat_minor": 5
}
