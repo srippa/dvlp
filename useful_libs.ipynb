{
 "cells": [
  {
   "cell_type": "code",
   "execution_count": null,
   "metadata": {},
   "outputs": [],
   "source": [
    "# smart_open \n",
    "import smart_open\n",
    "import json\n",
    "path = 's3://msi-sample-data/collision_reconstruction_artifacts/test/20190312162150/tl_color_v1.json'\n",
    "\n",
    "with smart_open.open(path) as fin:\n",
    "    data = json.load(fin)\n",
    "    print(data.keys())"
   ]
  }
 ],
 "metadata": {
  "language_info": {
   "name": "python"
  },
  "orig_nbformat": 4
 },
 "nbformat": 4,
 "nbformat_minor": 2
}
